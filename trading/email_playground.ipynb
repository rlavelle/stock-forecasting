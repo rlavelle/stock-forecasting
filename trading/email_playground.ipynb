{
 "cells": [
  {
   "cell_type": "code",
   "execution_count": 98,
   "id": "403964b2",
   "metadata": {},
   "outputs": [],
   "source": [
    "from fastquant import get_stock_data\n",
    "from gaussian_hmm import *\n",
    "import numpy as np\n",
    "import pandas as pd\n",
    "import matplotlib.pyplot as plt\n",
    "import math\n",
    "import time\n",
    "import sys\n",
    "import os"
   ]
  },
  {
   "cell_type": "code",
   "execution_count": 99,
   "id": "7e947b50",
   "metadata": {},
   "outputs": [],
   "source": [
    "with open('pass.txt') as f:\n",
    "    password = f.read()\n",
    "    password = password.strip('\\n')"
   ]
  },
  {
   "cell_type": "code",
   "execution_count": 100,
   "id": "3b6730bc",
   "metadata": {},
   "outputs": [],
   "source": [
    "f = open(\"tickers.txt\", \"r\")\n",
    "tickers = [s.strip('\\n') for s in f.readlines()]"
   ]
  },
  {
   "cell_type": "code",
   "execution_count": 101,
   "id": "506e039a",
   "metadata": {},
   "outputs": [
    {
     "data": {
      "text/plain": [
       "['AAPL', 'TSLA', 'TSM', 'HD', 'PLUG', 'DKNG', 'CMCSA', 'PFE']"
      ]
     },
     "execution_count": 101,
     "metadata": {},
     "output_type": "execute_result"
    }
   ],
   "source": [
    "tickers"
   ]
  },
  {
   "cell_type": "code",
   "execution_count": 30,
   "id": "659a4190",
   "metadata": {},
   "outputs": [
    {
     "name": "stdout",
     "output_type": "stream",
     "text": [
      "[*********************100%***********************]  1 of 1 completed\n",
      "                  open        high         low       close     volume\n",
      "dt                                                                   \n",
      "2017-01-03   28.950001   29.082500   28.690001   29.037500  115127600\n",
      "2017-01-04   28.962500   29.127501   28.937500   29.004999   84472400\n",
      "2017-01-05   28.980000   29.215000   28.952499   29.152500   88774400\n",
      "2017-01-06   29.195000   29.540001   29.117500   29.477501  127007600\n",
      "2017-01-09   29.487499   29.857500   29.485001   29.747499  134247600\n",
      "...                ...         ...         ...         ...        ...\n",
      "2021-05-05  129.199997  130.449997  127.970001  128.100006   84000900\n",
      "2021-05-06  127.889999  129.750000  127.129997  129.740005   78128300\n",
      "2021-05-07  130.850006  131.259995  129.479996  130.210007   78892700\n",
      "2021-05-10  129.410004  129.539993  126.809998  126.849998   87808400\n",
      "2021-05-11  123.500000  125.724998  122.779999  125.305496   80260673\n",
      "\n",
      "[1096 rows x 5 columns]\n",
      "[*********************100%***********************]  1 of 1 completed\n",
      "                  open        high         low       close    volume\n",
      "dt                                                                  \n",
      "2017-01-03   42.972000   44.066002   42.192001   43.397999  29616500\n",
      "2017-01-04   42.950001   45.599998   42.862000   45.397999  56067500\n",
      "2017-01-05   45.284000   45.495998   44.389999   45.349998  29558500\n",
      "2017-01-06   45.386002   46.062000   45.090000   45.801998  27639500\n",
      "2017-01-09   45.793999   46.383999   45.599998   46.256001  19897500\n",
      "...                ...         ...         ...         ...       ...\n",
      "2021-05-05  681.059998  685.299988  667.340027  670.940002  21901900\n",
      "2021-05-06  680.760010  681.020020  650.000000  663.539978  27784600\n",
      "2021-05-07  665.799988  690.000000  660.219971  672.369995  23422100\n",
      "2021-05-10  664.900024  665.049988  627.609985  629.039978  31238600\n",
      "2021-05-11  599.239990  625.599976  595.619995  611.520020  32404940\n",
      "\n",
      "[1096 rows x 5 columns]\n",
      "[*********************100%***********************]  1 of 1 completed\n",
      "                  open        high         low       close    volume\n",
      "dt                                                                  \n",
      "2017-01-03   29.250000   29.510000   29.059999   29.309999   6280300\n",
      "2017-01-04   29.389999   29.459999   29.200001   29.299999   4391800\n",
      "2017-01-05   29.530001   29.910000   29.520000   29.799999   4775700\n",
      "2017-01-06   29.740000   29.850000   29.459999   29.629999   4878700\n",
      "2017-01-09   29.790001   30.139999   29.719999   30.040001   8371700\n",
      "...                ...         ...         ...         ...       ...\n",
      "2021-05-05  116.000000  116.489998  115.300003  115.379997   4174100\n",
      "2021-05-06  115.300003  117.639999  114.459999  117.000000   8581700\n",
      "2021-05-07  118.400002  119.419998  116.050003  116.830002   9606900\n",
      "2021-05-10  114.980003  115.379997  112.230003  112.309998  12260300\n",
      "2021-05-11  109.730003  112.279999  109.160004  111.779999   6289922\n",
      "\n",
      "[1096 rows x 5 columns]\n",
      "[*********************100%***********************]  1 of 1 completed\n",
      "                  open        high         low       close   volume\n",
      "dt                                                                 \n",
      "2017-01-03  135.100006  135.509995  133.589996  134.309998  5299700\n",
      "2017-01-04  134.339996  135.940002  134.210007  135.500000  4055300\n",
      "2017-01-05  134.979996  135.460007  133.779999  133.899994  3821100\n",
      "2017-01-06  133.970001  134.330002  133.050003  133.529999  3827500\n",
      "2017-01-09  133.220001  134.759995  133.139999  134.309998  4310200\n",
      "...                ...         ...         ...         ...      ...\n",
      "2021-05-05  334.250000  334.250000  331.160004  332.049988  2015000\n",
      "2021-05-06  333.670013  337.809998  333.230011  337.579987  3539600\n",
      "2021-05-07  336.679993  339.809998  335.529999  339.250000  2998100\n",
      "2021-05-10  340.450012  345.690002  339.540009  341.119995  4834500\n",
      "2021-05-11  337.549988  338.000000  328.429993  329.329987  3121649\n",
      "\n",
      "[1096 rows x 5 columns]\n",
      "[*********************100%***********************]  1 of 1 completed\n",
      "                 open       high        low      close    volume\n",
      "dt                                                              \n",
      "2017-01-03   1.200000   1.230000   1.190000   1.210000   2075600\n",
      "2017-01-04   1.210000   1.300000   1.200000   1.300000   2930500\n",
      "2017-01-05   1.300000   1.320000   1.260000   1.260000   3506400\n",
      "2017-01-06   1.280000   1.290000   1.250000   1.250000   1861100\n",
      "2017-01-09   1.260000   1.270000   1.220000   1.250000   1386100\n",
      "...               ...        ...        ...        ...       ...\n",
      "2021-05-05  25.059999  25.629999  24.110001  24.290001  29291900\n",
      "2021-05-06  23.170000  23.610001  21.580000  22.559999  45365300\n",
      "2021-05-07  22.980000  23.930000  22.590000  23.049999  21625400\n",
      "2021-05-10  22.660000  22.660000  20.049999  20.070000  38793300\n",
      "2021-05-11  18.600000  22.789900  18.469999  22.770000  48555322\n",
      "\n",
      "[1096 rows x 5 columns]\n",
      "[*********************100%***********************]  1 of 1 completed\n",
      "                 open       high        low      close    volume\n",
      "dt                                                              \n",
      "2019-07-25   9.800000   9.800000   9.800000   9.800000       100\n",
      "2019-07-26   9.800000   9.800000   9.800000   9.800000         0\n",
      "2019-07-29   9.800000   9.800000   9.800000   9.800000         0\n",
      "2019-07-30   9.800000   9.800000   9.800000   9.800000         0\n",
      "2019-07-31   9.800000   9.800000   9.800000   9.800000         0\n",
      "...               ...        ...        ...        ...       ...\n",
      "2021-05-05  56.047001  57.610001  55.834000  56.180000  11503500\n",
      "2021-05-06  55.689999  55.820000  50.250000  51.889999  27353900\n",
      "2021-05-07  53.450001  53.509998  48.160000  48.419998  45869200\n",
      "2021-05-10  47.560001  47.580002  44.459999  45.340000  42085600\n",
      "2021-05-11  42.660000  45.599998  42.240002  44.021000  17684437\n",
      "\n",
      "[453 rows x 5 columns]\n",
      "[*********************100%***********************]  1 of 1 completed\n",
      "                 open       high        low      close    volume\n",
      "dt                                                              \n",
      "2017-01-03  34.834999  34.945000  34.115002  34.525002  23670400\n",
      "2017-01-04  34.755001  35.130001  34.590000  34.935001  22010800\n",
      "2017-01-05  34.794998  35.130001  34.700001  35.075001  16986000\n",
      "2017-01-06  35.105000  35.270000  34.910000  35.134998  13528000\n",
      "2017-01-09  35.070000  35.480000  35.025002  35.415001  18135400\n",
      "...               ...        ...        ...        ...       ...\n",
      "2021-05-05  57.009998  57.029999  56.259998  56.410000  17858800\n",
      "2021-05-06  56.669998  57.099998  56.450001  56.980000  13075800\n",
      "2021-05-07  57.259998  58.419998  56.700001  58.110001  17847300\n",
      "2021-05-10  58.340000  59.110001  57.490002  57.509998  19221200\n",
      "2021-05-11  57.520000  57.770000  56.950001  57.125000   6493695\n",
      "\n",
      "[1096 rows x 5 columns]\n",
      "[*********************100%***********************]  1 of 1 completed\n",
      "                 open       high        low      close    volume\n",
      "dt                                                              \n",
      "2017-01-03  31.024668  31.309298  30.920303  31.309298  23391844\n",
      "2017-01-04  31.432638  31.641365  31.337761  31.584440  22753963\n",
      "2017-01-05  31.660341  31.963947  31.423149  31.888046  21083584\n",
      "2017-01-06  31.935484  31.973434  31.631880  31.764706  18418228\n",
      "2017-01-09  31.717268  31.944971  31.669828  31.755219  21559886\n",
      "...               ...        ...        ...        ...       ...\n",
      "2021-05-05  40.180000  41.090000  38.930000  39.970001  54348400\n",
      "2021-05-06  38.480000  39.230000  37.959999  39.189999  54944900\n",
      "2021-05-07  39.049999  39.869999  39.049999  39.580002  33795200\n",
      "2021-05-10  39.830002  40.279999  39.779999  39.860001  30772200\n",
      "2021-05-11  39.680000  40.070000  39.459999  39.468601  17679934\n",
      "\n",
      "[1096 rows x 5 columns]\n"
     ]
    }
   ],
   "source": [
    "for ticker in tickers:\n",
    "    print(get_stock_data(ticker, '2017-01-01', '2021-05-12'))"
   ]
  },
  {
   "cell_type": "code",
   "execution_count": 31,
   "id": "2cb24176",
   "metadata": {},
   "outputs": [],
   "source": [
    "import smtplib"
   ]
  },
  {
   "cell_type": "code",
   "execution_count": 88,
   "id": "ec37a70b",
   "metadata": {},
   "outputs": [],
   "source": [
    "def send_email(sent_to, message):\n",
    "    sender = 'ghmm.stock.bot@gmail.com'\n",
    "\n",
    "    gmail_user = 'ghmm.stock.bot@gmail.com'\n",
    "    sent_from = 'ghmm.stock.bot@gmail.com'\n",
    "    email_text = message\n",
    "\n",
    "    server = smtplib.SMTP_SSL('smtp.gmail.com', 465)\n",
    "    server.ehlo()\n",
    "    server.login(gmail_user, password)\n",
    "    server.sendmail(sent_from, sent_to, email_text)\n",
    "    server.close()"
   ]
  },
  {
   "cell_type": "code",
   "execution_count": 83,
   "id": "ff7135cb",
   "metadata": {},
   "outputs": [],
   "source": [
    "recievers = [('rowan','ghmm.stock.bot@gmail.com')]"
   ]
  },
  {
   "cell_type": "code",
   "execution_count": 33,
   "id": "dbd923ae",
   "metadata": {},
   "outputs": [],
   "source": [
    "from datetime import datetime, timedelta"
   ]
  },
  {
   "cell_type": "code",
   "execution_count": 34,
   "id": "8e58f981",
   "metadata": {},
   "outputs": [],
   "source": [
    "quant_format = '%Y-%m-%d'"
   ]
  },
  {
   "cell_type": "code",
   "execution_count": 36,
   "id": "fec92a4a",
   "metadata": {},
   "outputs": [],
   "source": [
    "today = datetime.now()"
   ]
  },
  {
   "cell_type": "code",
   "execution_count": 37,
   "id": "d59570de",
   "metadata": {},
   "outputs": [],
   "source": [
    "training_start = today - timedelta(days=1825)"
   ]
  },
  {
   "cell_type": "code",
   "execution_count": 38,
   "id": "1c698ac8",
   "metadata": {},
   "outputs": [
    {
     "data": {
      "text/plain": [
       "datetime.datetime(2016, 5, 12, 12, 38, 25, 646614)"
      ]
     },
     "execution_count": 38,
     "metadata": {},
     "output_type": "execute_result"
    }
   ],
   "source": [
    "training_start"
   ]
  },
  {
   "cell_type": "code",
   "execution_count": 39,
   "id": "30d705a5",
   "metadata": {},
   "outputs": [
    {
     "data": {
      "text/plain": [
       "datetime.datetime(2021, 5, 11, 12, 38, 25, 646614)"
      ]
     },
     "execution_count": 39,
     "metadata": {},
     "output_type": "execute_result"
    }
   ],
   "source": [
    "today"
   ]
  },
  {
   "cell_type": "code",
   "execution_count": 40,
   "id": "8688b334",
   "metadata": {},
   "outputs": [],
   "source": [
    "training_end = today - timedelta(days=1)"
   ]
  },
  {
   "cell_type": "code",
   "execution_count": 41,
   "id": "d1544b7b",
   "metadata": {},
   "outputs": [],
   "source": [
    "training_start = training_start.strftime(quant_format)"
   ]
  },
  {
   "cell_type": "code",
   "execution_count": 42,
   "id": "5b3fcbab",
   "metadata": {},
   "outputs": [
    {
     "data": {
      "text/plain": [
       "'2016-05-12'"
      ]
     },
     "execution_count": 42,
     "metadata": {},
     "output_type": "execute_result"
    }
   ],
   "source": [
    "training_start"
   ]
  },
  {
   "cell_type": "code",
   "execution_count": 43,
   "id": "61061b5f",
   "metadata": {},
   "outputs": [],
   "source": [
    "training_end = training_end.strftime(quant_format)"
   ]
  },
  {
   "cell_type": "code",
   "execution_count": 44,
   "id": "ab481f82",
   "metadata": {},
   "outputs": [
    {
     "data": {
      "text/plain": [
       "'2021-05-10'"
      ]
     },
     "execution_count": 44,
     "metadata": {},
     "output_type": "execute_result"
    }
   ],
   "source": [
    "training_end"
   ]
  },
  {
   "cell_type": "code",
   "execution_count": 45,
   "id": "2b1beaa2",
   "metadata": {},
   "outputs": [],
   "source": [
    "tomorrow = today + timedelta(days=1)"
   ]
  },
  {
   "cell_type": "code",
   "execution_count": 46,
   "id": "f15cea58",
   "metadata": {},
   "outputs": [],
   "source": [
    "today = today.strftime(quant_format)"
   ]
  },
  {
   "cell_type": "code",
   "execution_count": 47,
   "id": "af359293",
   "metadata": {},
   "outputs": [],
   "source": [
    "tomorrow = tomorrow.strftime(quant_format)"
   ]
  },
  {
   "cell_type": "code",
   "execution_count": 48,
   "id": "2a38d224",
   "metadata": {},
   "outputs": [
    {
     "data": {
      "text/plain": [
       "'2016-05-12'"
      ]
     },
     "execution_count": 48,
     "metadata": {},
     "output_type": "execute_result"
    }
   ],
   "source": [
    "training_start"
   ]
  },
  {
   "cell_type": "code",
   "execution_count": 50,
   "id": "d5281042",
   "metadata": {},
   "outputs": [
    {
     "data": {
      "text/plain": [
       "'2021-05-11'"
      ]
     },
     "execution_count": 50,
     "metadata": {},
     "output_type": "execute_result"
    }
   ],
   "source": [
    "today"
   ]
  },
  {
   "cell_type": "code",
   "execution_count": 51,
   "id": "0a84729a",
   "metadata": {},
   "outputs": [
    {
     "data": {
      "text/plain": [
       "'2021-05-12'"
      ]
     },
     "execution_count": 51,
     "metadata": {},
     "output_type": "execute_result"
    }
   ],
   "source": [
    "tomorrow"
   ]
  },
  {
   "cell_type": "code",
   "execution_count": 52,
   "id": "aba7f50c",
   "metadata": {},
   "outputs": [
    {
     "name": "stdout",
     "output_type": "stream",
     "text": [
      "[*********************100%***********************]  1 of 1 completed\n"
     ]
    }
   ],
   "source": [
    "training_data = get_stock_data('AAPL', training_start, today)"
   ]
  },
  {
   "cell_type": "code",
   "execution_count": 53,
   "id": "0ad0b4a9",
   "metadata": {},
   "outputs": [
    {
     "name": "stdout",
     "output_type": "stream",
     "text": [
      "[*********************100%***********************]  1 of 1 completed\n"
     ]
    }
   ],
   "source": [
    "test_data = get_stock_data('AAPL', today, tomorrow)"
   ]
  },
  {
   "cell_type": "code",
   "execution_count": 54,
   "id": "29168cfe",
   "metadata": {},
   "outputs": [
    {
     "data": {
      "text/html": [
       "<div>\n",
       "<style scoped>\n",
       "    .dataframe tbody tr th:only-of-type {\n",
       "        vertical-align: middle;\n",
       "    }\n",
       "\n",
       "    .dataframe tbody tr th {\n",
       "        vertical-align: top;\n",
       "    }\n",
       "\n",
       "    .dataframe thead th {\n",
       "        text-align: right;\n",
       "    }\n",
       "</style>\n",
       "<table border=\"1\" class=\"dataframe\">\n",
       "  <thead>\n",
       "    <tr style=\"text-align: right;\">\n",
       "      <th></th>\n",
       "      <th>open</th>\n",
       "      <th>high</th>\n",
       "      <th>low</th>\n",
       "      <th>close</th>\n",
       "      <th>volume</th>\n",
       "    </tr>\n",
       "    <tr>\n",
       "      <th>dt</th>\n",
       "      <th></th>\n",
       "      <th></th>\n",
       "      <th></th>\n",
       "      <th></th>\n",
       "      <th></th>\n",
       "    </tr>\n",
       "  </thead>\n",
       "  <tbody>\n",
       "    <tr>\n",
       "      <th>2016-05-12</th>\n",
       "      <td>23.180000</td>\n",
       "      <td>23.195000</td>\n",
       "      <td>22.367500</td>\n",
       "      <td>22.584999</td>\n",
       "      <td>305258800</td>\n",
       "    </tr>\n",
       "    <tr>\n",
       "      <th>2016-05-13</th>\n",
       "      <td>22.500000</td>\n",
       "      <td>22.917500</td>\n",
       "      <td>22.500000</td>\n",
       "      <td>22.629999</td>\n",
       "      <td>177571200</td>\n",
       "    </tr>\n",
       "    <tr>\n",
       "      <th>2016-05-16</th>\n",
       "      <td>23.097500</td>\n",
       "      <td>23.597500</td>\n",
       "      <td>22.912500</td>\n",
       "      <td>23.469999</td>\n",
       "      <td>245039200</td>\n",
       "    </tr>\n",
       "    <tr>\n",
       "      <th>2016-05-17</th>\n",
       "      <td>23.637501</td>\n",
       "      <td>23.674999</td>\n",
       "      <td>23.252501</td>\n",
       "      <td>23.372499</td>\n",
       "      <td>187667600</td>\n",
       "    </tr>\n",
       "    <tr>\n",
       "      <th>2016-05-18</th>\n",
       "      <td>23.540001</td>\n",
       "      <td>23.802500</td>\n",
       "      <td>23.472500</td>\n",
       "      <td>23.639999</td>\n",
       "      <td>168249600</td>\n",
       "    </tr>\n",
       "    <tr>\n",
       "      <th>...</th>\n",
       "      <td>...</td>\n",
       "      <td>...</td>\n",
       "      <td>...</td>\n",
       "      <td>...</td>\n",
       "      <td>...</td>\n",
       "    </tr>\n",
       "    <tr>\n",
       "      <th>2021-05-04</th>\n",
       "      <td>131.190002</td>\n",
       "      <td>131.490005</td>\n",
       "      <td>126.699997</td>\n",
       "      <td>127.849998</td>\n",
       "      <td>137564700</td>\n",
       "    </tr>\n",
       "    <tr>\n",
       "      <th>2021-05-05</th>\n",
       "      <td>129.199997</td>\n",
       "      <td>130.449997</td>\n",
       "      <td>127.970001</td>\n",
       "      <td>128.100006</td>\n",
       "      <td>84000900</td>\n",
       "    </tr>\n",
       "    <tr>\n",
       "      <th>2021-05-06</th>\n",
       "      <td>127.889999</td>\n",
       "      <td>129.750000</td>\n",
       "      <td>127.129997</td>\n",
       "      <td>129.740005</td>\n",
       "      <td>78128300</td>\n",
       "    </tr>\n",
       "    <tr>\n",
       "      <th>2021-05-07</th>\n",
       "      <td>130.850006</td>\n",
       "      <td>131.259995</td>\n",
       "      <td>129.479996</td>\n",
       "      <td>130.210007</td>\n",
       "      <td>78892700</td>\n",
       "    </tr>\n",
       "    <tr>\n",
       "      <th>2021-05-10</th>\n",
       "      <td>129.410004</td>\n",
       "      <td>129.539993</td>\n",
       "      <td>126.809998</td>\n",
       "      <td>126.849998</td>\n",
       "      <td>87808400</td>\n",
       "    </tr>\n",
       "  </tbody>\n",
       "</table>\n",
       "<p>1257 rows × 5 columns</p>\n",
       "</div>"
      ],
      "text/plain": [
       "                  open        high         low       close     volume\n",
       "dt                                                                   \n",
       "2016-05-12   23.180000   23.195000   22.367500   22.584999  305258800\n",
       "2016-05-13   22.500000   22.917500   22.500000   22.629999  177571200\n",
       "2016-05-16   23.097500   23.597500   22.912500   23.469999  245039200\n",
       "2016-05-17   23.637501   23.674999   23.252501   23.372499  187667600\n",
       "2016-05-18   23.540001   23.802500   23.472500   23.639999  168249600\n",
       "...                ...         ...         ...         ...        ...\n",
       "2021-05-04  131.190002  131.490005  126.699997  127.849998  137564700\n",
       "2021-05-05  129.199997  130.449997  127.970001  128.100006   84000900\n",
       "2021-05-06  127.889999  129.750000  127.129997  129.740005   78128300\n",
       "2021-05-07  130.850006  131.259995  129.479996  130.210007   78892700\n",
       "2021-05-10  129.410004  129.539993  126.809998  126.849998   87808400\n",
       "\n",
       "[1257 rows x 5 columns]"
      ]
     },
     "execution_count": 54,
     "metadata": {},
     "output_type": "execute_result"
    }
   ],
   "source": [
    "training_data"
   ]
  },
  {
   "cell_type": "code",
   "execution_count": 55,
   "id": "fb0e2d6e",
   "metadata": {},
   "outputs": [
    {
     "data": {
      "text/html": [
       "<div>\n",
       "<style scoped>\n",
       "    .dataframe tbody tr th:only-of-type {\n",
       "        vertical-align: middle;\n",
       "    }\n",
       "\n",
       "    .dataframe tbody tr th {\n",
       "        vertical-align: top;\n",
       "    }\n",
       "\n",
       "    .dataframe thead th {\n",
       "        text-align: right;\n",
       "    }\n",
       "</style>\n",
       "<table border=\"1\" class=\"dataframe\">\n",
       "  <thead>\n",
       "    <tr style=\"text-align: right;\">\n",
       "      <th></th>\n",
       "      <th>open</th>\n",
       "      <th>high</th>\n",
       "      <th>low</th>\n",
       "      <th>close</th>\n",
       "      <th>volume</th>\n",
       "    </tr>\n",
       "    <tr>\n",
       "      <th>dt</th>\n",
       "      <th></th>\n",
       "      <th></th>\n",
       "      <th></th>\n",
       "      <th></th>\n",
       "      <th></th>\n",
       "    </tr>\n",
       "  </thead>\n",
       "  <tbody>\n",
       "    <tr>\n",
       "      <th>2021-05-11</th>\n",
       "      <td>123.5</td>\n",
       "      <td>125.724998</td>\n",
       "      <td>122.779999</td>\n",
       "      <td>125.129997</td>\n",
       "      <td>81844688</td>\n",
       "    </tr>\n",
       "  </tbody>\n",
       "</table>\n",
       "</div>"
      ],
      "text/plain": [
       "             open        high         low       close    volume\n",
       "dt                                                             \n",
       "2021-05-11  123.5  125.724998  122.779999  125.129997  81844688"
      ]
     },
     "execution_count": 55,
     "metadata": {},
     "output_type": "execute_result"
    }
   ],
   "source": [
    "test_data"
   ]
  },
  {
   "cell_type": "code",
   "execution_count": 56,
   "id": "8ebc0c5d",
   "metadata": {},
   "outputs": [],
   "source": [
    "params = {'n_components': 2, \n",
    "          'algorithm': 'map', \n",
    "          'n_iter': 100, \n",
    "          'd': 5,\n",
    "          'name':'GHMM'}\n",
    "ghmm = GHMM(params=params)"
   ]
  },
  {
   "cell_type": "code",
   "execution_count": 57,
   "id": "cf3c4f22",
   "metadata": {},
   "outputs": [],
   "source": [
    "ghmm.train(training_data)"
   ]
  },
  {
   "cell_type": "code",
   "execution_count": 58,
   "id": "3a433474",
   "metadata": {},
   "outputs": [
    {
     "name": "stdout",
     "output_type": "stream",
     "text": [
      "DONE\n"
     ]
    }
   ],
   "source": [
    "preds,_ = ghmm.predict(test_data)"
   ]
  },
  {
   "cell_type": "code",
   "execution_count": 59,
   "id": "57bf33cb",
   "metadata": {},
   "outputs": [
    {
     "data": {
      "text/plain": [
       "[123.59577042192016]"
      ]
     },
     "execution_count": 59,
     "metadata": {},
     "output_type": "execute_result"
    }
   ],
   "source": [
    "preds"
   ]
  },
  {
   "cell_type": "code",
   "execution_count": 60,
   "id": "24fb5929",
   "metadata": {},
   "outputs": [],
   "source": [
    "prev_close = training_data['close'].values[-1]"
   ]
  },
  {
   "cell_type": "code",
   "execution_count": 61,
   "id": "fac08530",
   "metadata": {},
   "outputs": [],
   "source": [
    "pred_close = preds[0]"
   ]
  },
  {
   "cell_type": "code",
   "execution_count": 62,
   "id": "99aff5df",
   "metadata": {},
   "outputs": [],
   "source": [
    "change = (pred_close-prev_close)/prev_close"
   ]
  },
  {
   "cell_type": "code",
   "execution_count": 63,
   "id": "6f43c665",
   "metadata": {},
   "outputs": [
    {
     "data": {
      "text/plain": [
       "-0.025654143408325152"
      ]
     },
     "execution_count": 63,
     "metadata": {},
     "output_type": "execute_result"
    }
   ],
   "source": [
    "change"
   ]
  },
  {
   "cell_type": "code",
   "execution_count": 64,
   "id": "b085fce9",
   "metadata": {},
   "outputs": [],
   "source": [
    "open_price = test_data['open'].values[0]"
   ]
  },
  {
   "cell_type": "code",
   "execution_count": 65,
   "id": "f497e6a2",
   "metadata": {},
   "outputs": [],
   "source": [
    "frac_change = (pred_close-open_price)/open_price"
   ]
  },
  {
   "cell_type": "code",
   "execution_count": 66,
   "id": "215f0117",
   "metadata": {},
   "outputs": [
    {
     "data": {
      "text/plain": [
       "0.0007754690034021416"
      ]
     },
     "execution_count": 66,
     "metadata": {},
     "output_type": "execute_result"
    }
   ],
   "source": [
    "frac_change"
   ]
  },
  {
   "cell_type": "code",
   "execution_count": 129,
   "id": "5a73ea85",
   "metadata": {},
   "outputs": [],
   "source": [
    "def get_data(ticker):\n",
    "    today = datetime.now()\n",
    "    training_start = today - timedelta(days=1825)\n",
    "    training_start = training_start.strftime(quant_format)\n",
    "    tomorrow = today + timedelta(days=1)\n",
    "    today = today.strftime(quant_format)\n",
    "    tomorrow = tomorrow.strftime(quant_format)\n",
    "    training_data = get_stock_data(ticker, training_start, today)\n",
    "    test_data = get_stock_data(ticker, today, tomorrow)\n",
    "    return training_data, test_data"
   ]
  },
  {
   "cell_type": "code",
   "execution_count": 130,
   "id": "ed108eca",
   "metadata": {},
   "outputs": [],
   "source": [
    "def get_prediction(ticker):\n",
    "    params = {'n_components': 2, \n",
    "          'algorithm': 'map', \n",
    "          'n_iter': 100, \n",
    "          'd': 5,\n",
    "          'name':'GHMM'}\n",
    "    ghmm = GHMM(params=params)\n",
    "    train,test = get_data(ticker)\n",
    "    ghmm.train(train)\n",
    "    pred,_ = ghmm.predict(test)\n",
    "    open_price = test['open'].values[0]\n",
    "    pred_close = pred[0]\n",
    "    frac_change = (pred_close-open_price)/open_price\n",
    "    return frac_change, open_price, pred_close"
   ]
  },
  {
   "cell_type": "code",
   "execution_count": 131,
   "id": "9c62f7f6",
   "metadata": {},
   "outputs": [
    {
     "name": "stdout",
     "output_type": "stream",
     "text": [
      "[*********************100%***********************]  1 of 1 completed\n",
      "[*********************100%***********************]  1 of 1 completed\n",
      "DONE\n",
      "[*********************100%***********************]  1 of 1 completed\n",
      "[*********************100%***********************]  1 of 1 completed\n",
      "DONE\n",
      "[*********************100%***********************]  1 of 1 completed\n",
      "[*********************100%***********************]  1 of 1 completed\n",
      "DONE\n",
      "[*********************100%***********************]  1 of 1 completed\n",
      "[*********************100%***********************]  1 of 1 completed\n",
      "DONE\n",
      "[*********************100%***********************]  1 of 1 completed\n",
      "[*********************100%***********************]  1 of 1 completed\n",
      "DONE\n",
      "[*********************100%***********************]  1 of 1 completed\n",
      "[*********************100%***********************]  1 of 1 completed\n",
      "DONE\n",
      "[*********************100%***********************]  1 of 1 completed\n",
      "[*********************100%***********************]  1 of 1 completed\n",
      "DONE\n",
      "[*********************100%***********************]  1 of 1 completed\n",
      "[*********************100%***********************]  1 of 1 completed\n",
      "DONE\n",
      "8.674\n"
     ]
    }
   ],
   "source": [
    "sender = 'ghmm.stock.bot@gmail.com'\n",
    "start = time.time()\n",
    "picks = \"\"\n",
    "for ticker in tickers:\n",
    "    c,o,p = get_prediction(ticker)\n",
    "    picks += f'Ticker: {ticker}\\nOpen: {round(o,3)}\\nPred Close: {round(p,3)}\\nPred Percent Change: {round(c*100,3)}\\n\\n'\n",
    "end = time.time()\n",
    "print(round(end-start,4))"
   ]
  },
  {
   "cell_type": "code",
   "execution_count": 132,
   "id": "d57309cc",
   "metadata": {},
   "outputs": [
    {
     "name": "stdout",
     "output_type": "stream",
     "text": [
      "From: From Rowan <ghmm.stock.bot@gmail.com>\n",
      "To: To rowan <ghmm.stock.bot@gmail.com>\n",
      "Subject: Daily Picks\n",
      "\n",
      "Ticker: AAPL\n",
      "Open: 123.5\n",
      "Pred Close: 123.596\n",
      "Pred Percent Change: 0.078\n",
      "\n",
      "Ticker: TSLA\n",
      "Open: 599.24\n",
      "Pred Close: 599.824\n",
      "Pred Percent Change: 0.097\n",
      "\n",
      "Ticker: TSM\n",
      "Open: 109.73\n",
      "Pred Close: 109.758\n",
      "Pred Percent Change: 0.025\n",
      "\n",
      "Ticker: HD\n",
      "Open: 337.55\n",
      "Pred Close: 337.738\n",
      "Pred Percent Change: 0.056\n",
      "\n",
      "Ticker: PLUG\n",
      "Open: 18.6\n",
      "Pred Close: 18.595\n",
      "Pred Percent Change: -0.024\n",
      "\n",
      "Ticker: DKNG\n",
      "Open: 42.66\n",
      "Pred Close: 42.618\n",
      "Pred Percent Change: -0.099\n",
      "\n",
      "Ticker: CMCSA\n",
      "Open: 57.52\n",
      "Pred Close: 57.543\n",
      "Pred Percent Change: 0.041\n",
      "\n",
      "Ticker: PFE\n",
      "Open: 39.68\n",
      "Pred Close: 39.685\n",
      "Pred Percent Change: 0.011\n",
      "\n",
      "\n"
     ]
    }
   ],
   "source": [
    "for name,email in recievers:\n",
    "        message = f'From: From Rowan <{sender}>\\nTo: To {name} <{email}>\\nSubject: Daily Picks\\n\\n{picks}'\n",
    "        \n",
    "        print(message)\n",
    "        send_email(email,message)"
   ]
  },
  {
   "cell_type": "code",
   "execution_count": null,
   "id": "2e33e4d9",
   "metadata": {},
   "outputs": [],
   "source": []
  },
  {
   "cell_type": "code",
   "execution_count": null,
   "id": "78f9c7db",
   "metadata": {},
   "outputs": [],
   "source": []
  }
 ],
 "metadata": {
  "kernelspec": {
   "display_name": "proj_env",
   "language": "python",
   "name": "proj_env"
  },
  "language_info": {
   "codemirror_mode": {
    "name": "ipython",
    "version": 3
   },
   "file_extension": ".py",
   "mimetype": "text/x-python",
   "name": "python",
   "nbconvert_exporter": "python",
   "pygments_lexer": "ipython3",
   "version": "3.6.8"
  }
 },
 "nbformat": 4,
 "nbformat_minor": 5
}
